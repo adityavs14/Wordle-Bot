{
 "cells": [
  {
   "cell_type": "code",
   "execution_count": 11,
   "id": "9d1f5d85",
   "metadata": {},
   "outputs": [
    {
     "name": "stdout",
     "output_type": "stream",
     "text": [
      "_____eerie\n",
      "letters in correct place (green):  ['', '', '', '', '']\n",
      "letter that exist (yellow):  ['r']\n",
      "Chances taken:  1\n",
      "_____calmy\n",
      "letters in correct place (green):  ['', '', '', '', '']\n",
      "letter that exist (yellow):  ['c', 'a']\n",
      "Chances taken:  2\n",
      "_____racer\n",
      "letters in correct place (green):  ['', '', '', '', '']\n",
      "letter that exist (yellow):  ['r', 'a', 'c']\n",
      "Chances taken:  3\n",
      "_____acres\n",
      "letters in correct place (green):  ['', '', '', '', '']\n",
      "letter that exist (yellow):  ['a', 'c', 'r']\n",
      "Chances taken:  4\n",
      "_____scare\n",
      "letters in correct place (green):  ['', '', 'a', '', '']\n",
      "letter that exist (yellow):  ['c', 'r']\n",
      "Chances taken:  5\n",
      "_____crane\n",
      "letters in correct place (green):  ['', 'r', 'a', '', '']\n",
      "letter that exist (yellow):  ['c']\n",
      "Chances taken:  6\n",
      "YOU HAVE LOST! Word was:  track\n"
     ]
    }
   ],
   "source": [
    "import numpy as np\n",
    "d1 =open(\"accepted.txt\")\n",
    "d2 = open(\"allowed.txt\")\n",
    "accepted_words = []\n",
    "accepted_words = d1.read().split(' ')\n",
    "allowed_words = []\n",
    "allowed_words = d2.read().split(' ')\n",
    "y = np.random.rand(1)\n",
    "y = np.round(y*len(accepted_words))\n",
    "for t in y:\n",
    "    target= accepted_words[t.astype(int)]\n",
    "chances = 6\n",
    "\n",
    "inp = ['']*chances\n",
    "count = 0\n",
    "for i in range(chances):\n",
    "    flag = False\n",
    "    count = count+1\n",
    "    while(True):\n",
    "        inp[i] = input(\"_____\")\n",
    "        if(len(inp[i]) != 5):\n",
    "            print(\"word should be 5 letters\")\n",
    "            continue\n",
    "        else:\n",
    "            if(inp[i] in allowed_words):\n",
    "                step_ans_exist=[]\n",
    "                step_ans_cor_place=['']*5\n",
    "                temp = target\n",
    "                if(inp[i] == target):\n",
    "                    print(\"target word was: \",inp[i])\n",
    "                    print(\"Chances taken: \",count)\n",
    "                    flag = True\n",
    "                    break\n",
    "                else:\n",
    "                    for j in inp[i]:\n",
    "                        if(j in temp):\n",
    "                            if(inp[i].index(j)==target.index(j)):\n",
    "                                step_ans_cor_place[target.index(j)] = j\n",
    "                            else:\n",
    "                                step_ans_exist.append(j)\n",
    "                            temp=temp.replace(j,'',1)\n",
    "                    print(\"letters in correct place (green): \",step_ans_cor_place)\n",
    "                    print(\"letter that exist (yellow): \",step_ans_exist)\n",
    "                    print(\"Chances taken: \",count)\n",
    "                break\n",
    "            else:\n",
    "                print(\"NOT VALID TRY AGAIN\")\n",
    "    if(flag == True):\n",
    "        break\n",
    "if(flag==False):\n",
    "    print(\"YOU HAVE LOST! Word was: \",target)"
   ]
  },
  {
   "cell_type": "code",
   "execution_count": 7,
   "id": "d5c69a0c",
   "metadata": {},
   "outputs": [
    {
     "name": "stdout",
     "output_type": "stream",
     "text": [
      "12947\n"
     ]
    }
   ],
   "source": [
    "print(len(accepted_words))"
   ]
  },
  {
   "cell_type": "code",
   "execution_count": null,
   "id": "b2fd07a7",
   "metadata": {},
   "outputs": [],
   "source": []
  },
  {
   "cell_type": "code",
   "execution_count": null,
   "id": "22b02264",
   "metadata": {},
   "outputs": [],
   "source": []
  }
 ],
 "metadata": {
  "kernelspec": {
   "display_name": "Python 3.9 (tensorflow)",
   "language": "python",
   "name": "tensorflow"
  },
  "language_info": {
   "codemirror_mode": {
    "name": "ipython",
    "version": 3
   },
   "file_extension": ".py",
   "mimetype": "text/x-python",
   "name": "python",
   "nbconvert_exporter": "python",
   "pygments_lexer": "ipython3",
   "version": "3.9.10"
  }
 },
 "nbformat": 4,
 "nbformat_minor": 5
}
