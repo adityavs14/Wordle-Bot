{
 "cells": [
  {
   "cell_type": "code",
   "execution_count": 14,
   "id": "9d1f5d85",
   "metadata": {},
   "outputs": [
    {
     "name": "stdout",
     "output_type": "stream",
     "text": [
      "_____frost\n",
      "1 1\n",
      "t#yst\n",
      "3 3\n",
      "t#y#t\n",
      "##y#t\n",
      "letters in correct place (green):  ['', 'r', '', 's', 't']\n",
      "letter that exist (yellow):  []\n",
      "Chances taken:  1\n",
      "_____trout\n",
      "0 0\n",
      "#ryst\n",
      "1 1\n",
      "##yst\n",
      "4 4\n",
      "##ys#\n",
      "letters in correct place (green):  ['t', 'r', '', '', 't']\n",
      "letter that exist (yellow):  []\n",
      "Chances taken:  2\n",
      "_____tryst\n",
      "target word was:  tryst\n",
      "Chances taken:  3\n"
     ]
    }
   ],
   "source": [
    "import numpy as np\n",
    "d1 =open(\"accepted.txt\")\n",
    "d2 = open(\"allowed.txt\")\n",
    "accepted_words = []\n",
    "accepted_words = d1.read().split(' ')\n",
    "allowed_words = []\n",
    "allowed_words = d2.read().split(' ')\n",
    "y = np.random.rand(1)\n",
    "y = np.round(y*len(accepted_words))\n",
    "for t in y:\n",
    "    target= accepted_words[t.astype(int)]\n",
    "chances = 6\n",
    "target=\"tryst\"\n",
    "inp = ['']*chances\n",
    "count = 0\n",
    "for i in range(chances):\n",
    "    flag = False\n",
    "    count = count+1\n",
    "    while(True):\n",
    "        inp[i] = input(\"_____\")\n",
    "        if(len(inp[i]) != 5):\n",
    "            print(\"word should be 5 letters\")\n",
    "            continue\n",
    "        else:\n",
    "            if(inp[i] in allowed_words):\n",
    "                step_ans_exist=[]\n",
    "                step_ans_cor_place=['']*5\n",
    "                temp = target\n",
    "                if(inp[i] == target):\n",
    "                    print(\"target word was: \",inp[i])\n",
    "                    print(\"Chances taken: \",count)\n",
    "                    flag = True\n",
    "                    break\n",
    "                else:\n",
    "                    temp_i = inp[i]\n",
    "                    l_c = 0\n",
    "                    for j in inp[i]:\n",
    "                        if(j in temp):\n",
    "                            if(temp_i.index(j)==temp.index(j)):\n",
    "                                print(temp_i.index(j),temp.index(j))\n",
    "                                step_ans_cor_place[temp.index(j)] = j\n",
    "                            elif(temp[l_c] == j):\n",
    "                                step_ans_cor_place[l_c] = j\n",
    "                            else:\n",
    "                                step_ans_exist.append(j)\n",
    "                            temp=temp.replace(j,'#',1)\n",
    "                            temp_i = temp_i.replace(j,'#',1)\n",
    "\n",
    "                            print(temp)\n",
    "                        l_c+1=l/\n",
    "                    print(\"letters in correct place (green): \",step_ans_cor_place)\n",
    "                    print(\"letter that exist (yellow): \",step_ans_exist)\n",
    "                    print(\"Chances taken: \",count)\n",
    "                break\n",
    "            else:\n",
    "                print(\"NOT VALID TRY AGAIN\")\n",
    "    if(flag == True):\n",
    "        break\n",
    "if(flag==False):\n",
    "    print(\"YOU HAVE LOST! Word was: \",target)"
   ]
  },
  {
   "cell_type": "code",
   "execution_count": 2,
   "id": "d5c69a0c",
   "metadata": {},
   "outputs": [
    {
     "name": "stdout",
     "output_type": "stream",
     "text": [
      "tryst\n"
     ]
    }
   ],
   "source": [
    "print(target)"
   ]
  },
  {
   "cell_type": "code",
   "execution_count": 3,
   "id": "b2fd07a7",
   "metadata": {},
   "outputs": [
    {
     "name": "stdout",
     "output_type": "stream",
     "text": [
      "#rout\n"
     ]
    }
   ],
   "source": [
    "x = \"trout\"\n",
    "print(x.replace('t','#',1))"
   ]
  },
  {
   "cell_type": "code",
   "execution_count": null,
   "id": "22b02264",
   "metadata": {},
   "outputs": [],
   "source": []
  }
 ],
 "metadata": {
  "kernelspec": {
   "display_name": "Python 3.9 (tensorflow)",
   "language": "python",
   "name": "tensorflow"
  },
  "language_info": {
   "codemirror_mode": {
    "name": "ipython",
    "version": 3
   },
   "file_extension": ".py",
   "mimetype": "text/x-python",
   "name": "python",
   "nbconvert_exporter": "python",
   "pygments_lexer": "ipython3",
   "version": "3.9.10"
  }
 },
 "nbformat": 4,
 "nbformat_minor": 5
}
